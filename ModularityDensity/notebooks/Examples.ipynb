{
 "cells": [
  {
   "cell_type": "code",
   "execution_count": 37,
   "metadata": {},
   "outputs": [],
   "source": [
    "import sys\n",
    "import os\n",
    "import numpy as np\n",
    "import random as rd\n",
    "import networkx as nx\n",
    "import matplotlib.pyplot as plt\n",
    "\n",
    "\n",
    "os.sys.path.append('/Users/smula/Documents/projects/Networkx/modularity-density/ModularityDensity')\n",
    "#from fine_tuned_qds_sparse_test import *\n",
    "from fine_tuned_modularity import *\n",
    "from fine_tuned_modularity_density import *\n",
    "from metrics import *"
   ]
  },
  {
   "cell_type": "markdown",
   "metadata": {},
   "source": [
    "# Karate Club"
   ]
  },
  {
   "cell_type": "code",
   "execution_count": 38,
   "metadata": {},
   "outputs": [
    {
     "data": {
      "text/plain": [
       "array([2, 2, 2, 2, 4, 4, 4, 2, 3, 3, 4, 2, 2, 2, 3, 3, 4, 2, 3, 2, 3, 2,\n",
       "       3, 1, 1, 1, 3, 1, 1, 3, 3, 1, 3, 3])"
      ]
     },
     "execution_count": 38,
     "metadata": {},
     "output_type": "execute_result"
    }
   ],
   "source": [
    "G = nx.karate_club_graph()\n",
    "adj = nx.to_scipy_sparse_matrix(G)"
   ]
  },
  {
   "cell_type": "code",
   "execution_count": 45,
   "metadata": {},
   "outputs": [
    {
     "data": {
      "text/plain": [
       "0.23126500169457212"
      ]
     },
     "execution_count": 45,
     "metadata": {},
     "output_type": "execute_result"
    }
   ],
   "source": [
    "#Test Normalized Fine-tuned-Modularity density\n",
    "c = fine_tuned_clustering_qds(G, seed = 100)\n",
    "modularity_density(adj, c, np.unique(c))"
   ]
  },
  {
   "cell_type": "code",
   "execution_count": 47,
   "metadata": {},
   "outputs": [
    {
     "data": {
      "text/plain": [
       "0.23821951467671487"
      ]
     },
     "execution_count": 47,
     "metadata": {},
     "output_type": "execute_result"
    }
   ],
   "source": [
    "# Test Normalize\n",
    "c = fine_tuned_clustering_qds(G, normalize = False, seed = 100)\n",
    "modularity_density(adj, c, np.unique(c))"
   ]
  },
  {
   "cell_type": "code",
   "execution_count": 49,
   "metadata": {},
   "outputs": [
    {
     "data": {
      "text/plain": [
       "0.23126500169457212"
      ]
     },
     "execution_count": 49,
     "metadata": {},
     "output_type": "execute_result"
    }
   ],
   "source": [
    "#Test method tracemin\n",
    "c = fine_tuned_clustering_qds(G, evd_method='tracemin', seed = 100)\n",
    "modularity_density(adj, c, np.unique(c))"
   ]
  },
  {
   "cell_type": "code",
   "execution_count": 50,
   "metadata": {},
   "outputs": [
    {
     "data": {
      "text/plain": [
       "0.2312650016945721"
      ]
     },
     "execution_count": 50,
     "metadata": {},
     "output_type": "execute_result"
    }
   ],
   "source": [
    "#Test method lobpcg\n",
    "c = fine_tuned_clustering_qds(G, evd_method='lobpcg', seed = 100)\n",
    "modularity_density(adj, c, np.unique(c))"
   ]
  },
  {
   "cell_type": "code",
   "execution_count": 53,
   "metadata": {},
   "outputs": [
    {
     "data": {
      "text/plain": [
       "0.2312650016945721"
      ]
     },
     "execution_count": 53,
     "metadata": {},
     "output_type": "execute_result"
    }
   ],
   "source": [
    "#Test tolerence\n",
    "c = fine_tuned_clustering_qds(G, tolerence=1e-04, seed = 100)\n",
    "modularity_density(adj, c, np.unique(c))"
   ]
  },
  {
   "cell_type": "code",
   "execution_count": 54,
   "metadata": {},
   "outputs": [
    {
     "data": {
      "text/plain": [
       "0.23126500169457212"
      ]
     },
     "execution_count": 54,
     "metadata": {},
     "output_type": "execute_result"
    }
   ],
   "source": [
    "#Test seed\n",
    "c = fine_tuned_clustering_qds(G, seed = 2)\n",
    "modularity_density(adj, c, np.unique(c))"
   ]
  },
  {
   "cell_type": "code",
   "execution_count": 69,
   "metadata": {},
   "outputs": [
    {
     "data": {
      "text/plain": [
       "0.23821951467671487"
      ]
     },
     "execution_count": 69,
     "metadata": {},
     "output_type": "execute_result"
    }
   ],
   "source": [
    "#Test Whole new modularity\n",
    "c = fine_tuned_clustering_qds(G, normalize=False, evd_method='lobpcg', seed=2)\n",
    "modularity_density(adj, c, np.unique(c))"
   ]
  },
  {
   "cell_type": "code",
   "execution_count": 56,
   "metadata": {},
   "outputs": [
    {
     "data": {
      "text/plain": [
       "0.4197896120973045"
      ]
     },
     "execution_count": 56,
     "metadata": {},
     "output_type": "execute_result"
    }
   ],
   "source": [
    "#Test UnNormalized Fine-tuned-Modularity\n",
    "c = fine_tuned_clustering_q(G, normalize = False, seed = 100)\n",
    "modularity_r(adj, c, np.unique(c))"
   ]
  },
  {
   "cell_type": "code",
   "execution_count": 57,
   "metadata": {},
   "outputs": [
    {
     "data": {
      "text/plain": [
       "0.4197896120973044"
      ]
     },
     "execution_count": 57,
     "metadata": {},
     "output_type": "execute_result"
    }
   ],
   "source": [
    "#Test Normalized Fine-tuned-Modularity\n",
    "c = fine_tuned_clustering_q(G, seed = 100)\n",
    "modularity_r(adj, c, np.unique(c))"
   ]
  },
  {
   "cell_type": "code",
   "execution_count": 59,
   "metadata": {},
   "outputs": [
    {
     "data": {
      "text/plain": [
       "0.41978961209730437"
      ]
     },
     "execution_count": 59,
     "metadata": {},
     "output_type": "execute_result"
    }
   ],
   "source": [
    "#Test method tracemin\n",
    "c = fine_tuned_clustering_q(G, evd_method='tracemin', seed = 100)\n",
    "modularity_r(adj, c, np.unique(c))"
   ]
  },
  {
   "cell_type": "code",
   "execution_count": 65,
   "metadata": {},
   "outputs": [
    {
     "data": {
      "text/plain": [
       "0.4197896120973044"
      ]
     },
     "execution_count": 65,
     "metadata": {},
     "output_type": "execute_result"
    }
   ],
   "source": [
    "#Test method lobpcg\n",
    "c = fine_tuned_clustering_q(G, evd_method='lobpcg', seed = 100)\n",
    "modularity_r(adj, c, np.unique(c))"
   ]
  },
  {
   "cell_type": "code",
   "execution_count": 61,
   "metadata": {},
   "outputs": [
    {
     "data": {
      "text/plain": [
       "0.4197896120973044"
      ]
     },
     "execution_count": 61,
     "metadata": {},
     "output_type": "execute_result"
    }
   ],
   "source": [
    "#Test tolerence\n",
    "c = fine_tuned_clustering_q(G, tolerence=1e-04, seed = 100)\n",
    "modularity_r(adj, c, np.unique(c))"
   ]
  },
  {
   "cell_type": "code",
   "execution_count": 62,
   "metadata": {},
   "outputs": [
    {
     "data": {
      "text/plain": [
       "0.41978961209730437"
      ]
     },
     "execution_count": 62,
     "metadata": {},
     "output_type": "execute_result"
    }
   ],
   "source": [
    "#Test seed\n",
    "c = fine_tuned_clustering_q(G, seed = 2)\n",
    "modularity_r(adj, c, np.unique(c))"
   ]
  },
  {
   "cell_type": "code",
   "execution_count": 66,
   "metadata": {},
   "outputs": [
    {
     "data": {
      "text/plain": [
       "0.5148278061224489"
      ]
     },
     "execution_count": 66,
     "metadata": {},
     "output_type": "execute_result"
    }
   ],
   "source": [
    "#Test r\n",
    "c = fine_tuned_clustering_q(G, r=2, seed = 100)\n",
    "modularity_r(adj, c, np.unique(c), r=2)"
   ]
  },
  {
   "cell_type": "code",
   "execution_count": 68,
   "metadata": {},
   "outputs": [
    {
     "data": {
      "text/plain": [
       "0.5153459821428571"
      ]
     },
     "execution_count": 68,
     "metadata": {},
     "output_type": "execute_result"
    }
   ],
   "source": [
    "#Test Whole new modularity\n",
    "c = fine_tuned_clustering_q(G, normalize=False, r=2, evd_method='lobpcg', seed=2)\n",
    "modularity_r(adj, c, np.unique(c), r=2)"
   ]
  },
  {
   "cell_type": "code",
   "execution_count": 26,
   "metadata": {},
   "outputs": [
    {
     "data": {
      "text/plain": [
       "0.21301775147928995"
      ]
     },
     "execution_count": 26,
     "metadata": {},
     "output_type": "execute_result"
    }
   ],
   "source": [
    "modularity_r(adj, c, [1, 2])"
   ]
  },
  {
   "cell_type": "code",
   "execution_count": 32,
   "metadata": {},
   "outputs": [
    {
     "data": {
      "text/plain": [
       "0.12381147180972354"
      ]
     },
     "execution_count": 32,
     "metadata": {},
     "output_type": "execute_result"
    }
   ],
   "source": [
    "modularity_density(adj, c, [1, 2])"
   ]
  },
  {
   "cell_type": "code",
   "execution_count": 31,
   "metadata": {},
   "outputs": [
    {
     "data": {
      "text/plain": [
       "0.12381147180972354"
      ]
     },
     "execution_count": 31,
     "metadata": {},
     "output_type": "execute_result"
    }
   ],
   "source": [
    "modularity_density(adj, c, np.array([1, 2]))"
   ]
  },
  {
   "cell_type": "code",
   "execution_count": 30,
   "metadata": {},
   "outputs": [
    {
     "data": {
      "text/plain": [
       "0.23018976296948324"
      ]
     },
     "execution_count": 30,
     "metadata": {},
     "output_type": "execute_result"
    }
   ],
   "source": [
    "modularity_density(adj, c, np.unique(c))"
   ]
  },
  {
   "cell_type": "code",
   "execution_count": 45,
   "metadata": {},
   "outputs": [
    {
     "name": "stdout",
     "output_type": "stream",
     "text": [
      "4.056799934915034e-05\n"
     ]
    }
   ],
   "source": [
    "import timeit\n",
    "\n",
    "start_time = timeit.default_timer()\n",
    "\n",
    "[1]\n",
    "\n",
    "end_time = timeit.default_timer() - start_time\n",
    "print(end_time)"
   ]
  },
  {
   "cell_type": "code",
   "execution_count": 67,
   "metadata": {},
   "outputs": [
    {
     "name": "stdout",
     "output_type": "stream",
     "text": [
      "0.001186283000606636\n"
     ]
    }
   ],
   "source": [
    "start_time = timeit.default_timer()\n",
    "nx.to_scipy_sparse_matrix(G)\n",
    "end_time = timeit.default_timer() - start_time\n",
    "print(end_time)"
   ]
  },
  {
   "cell_type": "code",
   "execution_count": 65,
   "metadata": {},
   "outputs": [
    {
     "name": "stdout",
     "output_type": "stream",
     "text": [
      "0.001901802999782376\n"
     ]
    }
   ],
   "source": [
    "start_time = timeit.default_timer()\n",
    "nx.from_scipy_sparse_matrix(adj)\n",
    "end_time = timeit.default_timer() - start_time\n",
    "print(end_time)"
   ]
  },
  {
   "cell_type": "code",
   "execution_count": 68,
   "metadata": {},
   "outputs": [
    {
     "data": {
      "text/plain": [
       "array([2, 2, 2, 2, 4, 4, 4, 2, 3, 3, 4, 2, 2, 2, 3, 3, 4, 2, 3, 2, 3, 2,\n",
       "       3, 1, 1, 1, 3, 1, 1, 3, 3, 1, 3, 3])"
      ]
     },
     "execution_count": 68,
     "metadata": {},
     "output_type": "execute_result"
    }
   ],
   "source": [
    "c"
   ]
  },
  {
   "cell_type": "code",
   "execution_count": 71,
   "metadata": {},
   "outputs": [
    {
     "data": {
      "text/plain": [
       "array([ 0,  1,  2,  3,  7, 11, 12, 13, 17, 19, 21])"
      ]
     },
     "execution_count": 71,
     "metadata": {},
     "output_type": "execute_result"
    }
   ],
   "source": [
    "np.where(c==2)[0]"
   ]
  },
  {
   "cell_type": "markdown",
   "metadata": {},
   "source": [
    "# Football Data"
   ]
  },
  {
   "cell_type": "code",
   "execution_count": 2,
   "metadata": {},
   "outputs": [],
   "source": [
    "import sys\n",
    "sys.path.insert(0, '../tests')\n",
    "import helpers"
   ]
  },
  {
   "cell_type": "code",
   "execution_count": 10,
   "metadata": {},
   "outputs": [
    {
     "name": "stdout",
     "output_type": "stream",
     "text": [
      "loading matrix...\n"
     ]
    }
   ],
   "source": [
    "adj_fb = (helpers.load_football()[0]).tocsr()\n",
    "G_fb = nx.from_scipy_sparse_matrix(adj_fb)"
   ]
  },
  {
   "cell_type": "code",
   "execution_count": 29,
   "metadata": {},
   "outputs": [],
   "source": [
    "c_q = fine_tuned_clustering_q(G_fb, normalize = True, seed = 100)"
   ]
  },
  {
   "cell_type": "code",
   "execution_count": 20,
   "metadata": {},
   "outputs": [],
   "source": [
    "community_set = []\n",
    "for comm in np.unique(c_q):\n",
    "    community_set.append(frozenset(np.where(c_q == comm)[0]))\n",
    "    \n",
    "community_set = set(community_set)"
   ]
  },
  {
   "cell_type": "code",
   "execution_count": 30,
   "metadata": {},
   "outputs": [
    {
     "data": {
      "text/plain": [
       "array([ 6,  9,  8,  4,  6,  6,  8,  2,  2,  6,  4,  6,  7,  8,  7,  8,  6,\n",
       "        5,  7,  3,  5,  2,  2,  6,  6,  9,  7,  5,  6,  3,  3,  7,  8,  9,\n",
       "        7,  3,  7,  9,  7,  8,  4,  6,  7,  7,  1,  9, 10,  8,  1, 10,  6,\n",
       "        2,  4, 10,  7,  3,  5,  1, 10,  5,  8,  7,  5,  5,  8,  5,  1,  6,\n",
       "        2,  6,  5,  7,  4, 10,  4,  1,  5,  2,  2,  3,  3,  4,  8, 10,  4,\n",
       "        7,  1,  5, 10,  9,  6,  1,  1,  6,  3,  5,  5, 10,  4,  7,  8,  3,\n",
       "        4,  9,  6,  9,  8,  4,  2,  9, 10,  2,  1,  5, 10])"
      ]
     },
     "execution_count": 30,
     "metadata": {},
     "output_type": "execute_result"
    }
   ],
   "source": [
    "c_q"
   ]
  },
  {
   "cell_type": "code",
   "execution_count": 31,
   "metadata": {},
   "outputs": [],
   "source": [
    "c_qds = fine_tuned_clustering_qds(G_fb, normalize = True, seed = 100)"
   ]
  },
  {
   "cell_type": "code",
   "execution_count": 35,
   "metadata": {},
   "outputs": [
    {
     "data": {
      "text/plain": [
       "0.49436831970316597"
      ]
     },
     "execution_count": 35,
     "metadata": {},
     "output_type": "execute_result"
    }
   ],
   "source": [
    "modularity_density(adj_fb, c_qds, np.unique(c_qds))"
   ]
  },
  {
   "cell_type": "code",
   "execution_count": 36,
   "metadata": {},
   "outputs": [
    {
     "data": {
      "text/plain": [
       "0.5809448262776186"
      ]
     },
     "execution_count": 36,
     "metadata": {},
     "output_type": "execute_result"
    }
   ],
   "source": [
    "modularity_r(adj_fb, c_q, np.unique(c_q))"
   ]
  },
  {
   "cell_type": "code",
   "execution_count": null,
   "metadata": {},
   "outputs": [],
   "source": []
  }
 ],
 "metadata": {
  "kernelspec": {
   "display_name": "Python 3",
   "language": "python",
   "name": "python3"
  },
  "language_info": {
   "codemirror_mode": {
    "name": "ipython",
    "version": 3
   },
   "file_extension": ".py",
   "mimetype": "text/x-python",
   "name": "python",
   "nbconvert_exporter": "python",
   "pygments_lexer": "ipython3",
   "version": "3.7.0"
  }
 },
 "nbformat": 4,
 "nbformat_minor": 2
}
