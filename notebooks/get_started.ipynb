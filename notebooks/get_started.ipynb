{
 "cells": [
  {
   "cell_type": "code",
   "execution_count": 7,
   "metadata": {
    "ExecuteTime": {
     "end_time": "2019-03-04T20:35:36.339843Z",
     "start_time": "2019-03-04T20:35:36.333255Z"
    }
   },
   "outputs": [],
   "source": [
    "import networkx as nx\n",
    "import numpy as np\n",
    "import os\n",
    "import sys\n",
    "sys.path.append(\"../src/modularity-density/\")\n",
    "\n",
    "from metrics import modularity_density\n",
    "from metrics import modularity_r\n",
    "from fine_tuned_modularity_density \\\n",
    " import fine_tuned_clustering_qds\n",
    "from fine_tuned_modularity \\\n",
    " import fine_tuned_clustering_q"
   ]
  },
  {
   "cell_type": "code",
   "execution_count": 9,
   "metadata": {
    "ExecuteTime": {
     "end_time": "2019-03-04T20:36:17.623343Z",
     "start_time": "2019-03-04T20:36:17.610572Z"
    }
   },
   "outputs": [],
   "source": [
    "G = nx.karate_club_graph()\n",
    "adj = nx.to_scipy_sparse_matrix(G)"
   ]
  },
  {
   "cell_type": "code",
   "execution_count": 13,
   "metadata": {
    "ExecuteTime": {
     "end_time": "2019-03-04T20:37:09.233100Z",
     "start_time": "2019-03-04T20:37:08.362399Z"
    }
   },
   "outputs": [
    {
     "name": "stdout",
     "output_type": "stream",
     "text": [
      "0.23821951467671487\n"
     ]
    }
   ],
   "source": [
    "community_array = fine_tuned_clustering_qds(G, normalize=False,seed=100)\n",
    "computed_metric = modularity_density(adj, community_array, np.unique(community_array))\n",
    "\n",
    "print(computed_metric)"
   ]
  },
  {
   "cell_type": "code",
   "execution_count": null,
   "metadata": {},
   "outputs": [],
   "source": []
  }
 ],
 "metadata": {
  "hide_input": false,
  "kernelspec": {
   "display_name": "Python 3",
   "language": "python",
   "name": "python3"
  },
  "language_info": {
   "codemirror_mode": {
    "name": "ipython",
    "version": 3
   },
   "file_extension": ".py",
   "mimetype": "text/x-python",
   "name": "python",
   "nbconvert_exporter": "python",
   "pygments_lexer": "ipython3",
   "version": "3.6.7"
  },
  "toc": {
   "base_numbering": 1,
   "nav_menu": {},
   "number_sections": true,
   "sideBar": true,
   "skip_h1_title": false,
   "title_cell": "Table of Contents",
   "title_sidebar": "Contents",
   "toc_cell": false,
   "toc_position": {},
   "toc_section_display": true,
   "toc_window_display": false
  }
 },
 "nbformat": 4,
 "nbformat_minor": 2
}
